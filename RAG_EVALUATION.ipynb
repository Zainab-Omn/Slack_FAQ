{
 "cells": [
  {
   "cell_type": "code",
   "execution_count": 1,
   "id": "61cabf14",
   "metadata": {},
   "outputs": [],
   "source": [
    "from search_qa import run_search, make_client, search_dense\n",
    "import json\n",
    "from tqdm.auto import tqdm\n",
    "import matplotlib.pyplot as plt\n",
    "\n",
    "\n",
    "\n",
    "from dotenv import load_dotenv\n",
    "from dotenv import dotenv_values\n",
    "\n",
    "from openai import OpenAI\n",
    "\n",
    "from fastembed import TextEmbedding\n",
    "import numpy as np\n",
    "\n",
    "\n",
    "\n",
    "db_client = make_client()\n",
    "\n",
    "config = dotenv_values(\".env\")\n",
    "api_key = config.get(\"OPENAI_API_KEY\")\n",
    "client = OpenAI(api_key=api_key)\n",
    "\n",
    "\n",
    "ground_truth = \"Data/ground_truth.json\"\n",
    "with open(ground_truth, \"r\", encoding=\"utf-8\") as f:\n",
    "        ground_truth=json.load(f)\n",
    "        \n",
    "        \n",
    "data_with_id = \"Data/data_with_id.json\"  \n",
    "with open(data_with_id, \"r\", encoding=\"utf-8\") as f:\n",
    "        data_with_id=json.load(f)\n",
    "\n",
    "        \n",
    "doc_idx = {d['id']: d for d in data_with_id}\n",
    "        "
   ]
  },
  {
   "cell_type": "code",
   "execution_count": 2,
   "id": "885ca203",
   "metadata": {},
   "outputs": [],
   "source": [
    "def build_prompt(query, search_results):\n",
    "    prompt_template = \"\"\"\n",
    "You're a course teaching assistant. Answer the QUESTION based on the CONTEXT from the FAQ database.\n",
    "Use only the facts from the CONTEXT when answering the QUESTION.\n",
    "\n",
    "    QUESTION: {question}\n",
    "\n",
    "    CONTEXT: \n",
    "    {context}\n",
    "    \"\"\".strip()\n",
    "\n",
    "    context = \"\"\n",
    "    \n",
    "    for doc in search_results:\n",
    "        context = context + f\"question: {doc.payload['question']}\\n answer: {doc.payload['answer']}\\n\\n\"\n",
    "    \n",
    "    prompt = prompt_template.format(question=query, context=context).strip()\n",
    "    return prompt"
   ]
  },
  {
   "cell_type": "code",
   "execution_count": 3,
   "id": "b51fd552",
   "metadata": {},
   "outputs": [],
   "source": [
    "\n",
    "def llm(prompt, model='gpt-4o'):\n",
    "    response = client.chat.completions.create(\n",
    "        model=model,\n",
    "        messages=[{\"role\": \"user\", \"content\": prompt}]\n",
    "    )\n",
    "    \n",
    "    return response.choices[0].message.content"
   ]
  },
  {
   "cell_type": "code",
   "execution_count": 4,
   "id": "c41d6d08",
   "metadata": {},
   "outputs": [],
   "source": [
    "def rag(query,method, model='gpt-4o-mini',limit=5) -> str:\n",
    "    search_results = run_search(method, query, client=db_client,limit=limit)\n",
    "    prompt = build_prompt(query, search_results)\n",
    "    answer = llm(prompt, model=model)\n",
    "    return answer"
   ]
  },
  {
   "cell_type": "code",
   "execution_count": 6,
   "id": "b5e60d45",
   "metadata": {},
   "outputs": [],
   "source": [
    "answers={}"
   ]
  },
  {
   "cell_type": "code",
   "execution_count": 7,
   "id": "623aee55",
   "metadata": {},
   "outputs": [
    {
     "data": {
      "application/vnd.jupyter.widget-view+json": {
       "model_id": "c6feb303c7524ac19bd7a2f169d48d43",
       "version_major": 2,
       "version_minor": 0
      },
      "text/plain": [
       "  0%|          | 0/806 [00:00<?, ?it/s]"
      ]
     },
     "metadata": {},
     "output_type": "display_data"
    },
    {
     "name": "stderr",
     "output_type": "stream",
     "text": [
      "\n",
      "KeyboardInterrupt\n",
      "\n"
     ]
    }
   ],
   "source": [
    "i=0\n",
    "for id,questions  in tqdm(ground_truth.items()):\n",
    "    \n",
    "    questions_list=json.loads(questions)\n",
    "    answer_origin=doc_idx[id]['answer']\n",
    "    \n",
    "    for q in questions_list:\n",
    "        if i not in answers:\n",
    "            answer_llm=rag(q,'dense')\n",
    "\n",
    "            answers[i] = {\n",
    "            'answer_llm': answer_llm,\n",
    "            'answer_orig': answer_origin,\n",
    "            'document': id,\n",
    "            'question': q\n",
    "            }\n",
    "        i=i+1"
   ]
  },
  {
   "cell_type": "code",
   "execution_count": null,
   "id": "835d2b74",
   "metadata": {},
   "outputs": [],
   "source": [
    "output_file = \"Data/RAG_RESULTS.json\"\n",
    "with open(output_file, \"w\", encoding=\"utf-8\") as f:\n",
    "    json.dump(answers, f, ensure_ascii=False, indent=2)"
   ]
  },
  {
   "cell_type": "code",
   "execution_count": 8,
   "id": "88c77daf",
   "metadata": {},
   "outputs": [],
   "source": [
    "RAG_RESULTS=answers\n"
   ]
  },
  {
   "cell_type": "code",
   "execution_count": 9,
   "id": "321e3235",
   "metadata": {},
   "outputs": [],
   "source": [
    "model = TextEmbedding(model_name=\"BAAI/bge-small-en-v1.5\")\n"
   ]
  },
  {
   "cell_type": "code",
   "execution_count": 10,
   "id": "655fd91e",
   "metadata": {},
   "outputs": [],
   "source": [
    "def compute_similarity(record):\n",
    "    answer_orig = record['answer_orig']\n",
    "    answer_llm = record['answer_llm']\n",
    "    \n",
    "    embeddings = list(model.embed([answer_orig, answer_llm]))\n",
    "    emb1, emb2 = embeddings[0], embeddings[1]\n",
    "\n",
    "    similarity = np.dot(emb1, emb2) / (np.linalg.norm(emb1) * np.linalg.norm(emb2))\n",
    "    \n",
    "    return similarity"
   ]
  },
  {
   "cell_type": "code",
   "execution_count": 39,
   "id": "9b0e6251",
   "metadata": {},
   "outputs": [
    {
     "data": {
      "application/vnd.jupyter.widget-view+json": {
       "model_id": "4b42c2e5defc42799ab9e1754d54e1ec",
       "version_major": 2,
       "version_minor": 0
      },
      "text/plain": [
       "  0%|          | 0/4030 [00:00<?, ?it/s]"
      ]
     },
     "metadata": {},
     "output_type": "display_data"
    }
   ],
   "source": [
    "similarity=[]\n",
    "for record in tqdm(RAG_RESULTS):\n",
    "    sim = compute_similarity(RAG_RESULTS[record])\n",
    "    similarity.append(sim)\n",
    "    \n",
    "    "
   ]
  },
  {
   "cell_type": "code",
   "execution_count": 53,
   "id": "e4ec8255",
   "metadata": {},
   "outputs": [
    {
     "name": "stdout",
     "output_type": "stream",
     "text": [
      "Count: 4030\n",
      "Mean similarity: 0.8165864\n",
      "Median similarity: 0.8480261\n",
      "Min similarity: 0.35342222\n",
      "Max similarity: 1.0000001\n",
      "Standard deviation: 0.13033418\n"
     ]
    }
   ],
   "source": [
    "#Basic descriptive statistics\n",
    "\n",
    "print(\"Count:\", len(similarity))\n",
    "print(\"Mean similarity:\", np.mean(similarity))\n",
    "print(\"Median similarity:\", np.median(similarity))\n",
    "print(\"Min similarity:\", np.min(similarity))\n",
    "print(\"Max similarity:\", np.max(similarity))\n",
    "print(\"Standard deviation:\", np.std(similarity))"
   ]
  },
  {
   "cell_type": "code",
   "execution_count": 54,
   "id": "931601ff",
   "metadata": {},
   "outputs": [
    {
     "data": {
      "image/png": "[encoded data removed]",
      "text/plain": [
       "<Figure size 432x288 with 1 Axes>"
      ]
     },
     "metadata": {
      "needs_background": "light"
     },
     "output_type": "display_data"
    }
   ],
   "source": [
    "#Visualize the distribution\n",
    "plt.hist(similarity, bins=20, edgecolor='black')\n",
    "plt.title(\"Distribution of Sentence Similarities\")\n",
    "plt.xlabel(\"Cosine Similarity\")\n",
    "plt.ylabel(\"Frequency\")\n",
    "plt.show()\n",
    "\n"
   ]
  },
  {
   "cell_type": "code",
   "execution_count": null,
   "id": "5c5e5529",
   "metadata": {},
   "outputs": [],
   "source": []
  }
 ],
 "metadata": {
  "kernelspec": {
   "display_name": "Python 3 (ipykernel)",
   "language": "python",
   "name": "python3"
  },
  "language_info": {
   "codemirror_mode": {
    "name": "ipython",
    "version": 3
   },
   "file_extension": ".py",
   "mimetype": "text/x-python",
   "name": "python",
   "nbconvert_exporter": "python",
   "pygments_lexer": "ipython3",
   "version": "3.9.12"
  }
 },
 "nbformat": 4,
 "nbformat_minor": 5
}
