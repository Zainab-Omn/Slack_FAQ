{
 "cells": [
  {
   "cell_type": "code",
   "execution_count": 1,
   "id": "72759e47",
   "metadata": {},
   "outputs": [],
   "source": [
    "import json\n",
    "from typing import Dict, Iterable, List, Tuple\n",
    "import uuid\n",
    "from __future__ import annotations\n",
    "\n",
    "import json\n",
    "import os\n",
    "from typing import Dict, Any\n",
    "\n",
    "from dotenv import load_dotenv\n",
    "from dotenv import dotenv_values\n",
    "\n",
    "from openai import OpenAI\n",
    "\n",
    "\n",
    "\n",
    "config = dotenv_values(\".env\")\n",
    "api_key = config.get(\"OPENAI_API_KEY\")\n",
    "client = OpenAI(api_key=api_key)\n",
    "\n",
    "file = \"Data/slack_QA.json\"\n"
   ]
  },
  {
   "cell_type": "code",
   "execution_count": 2,
   "id": "637aeec7",
   "metadata": {},
   "outputs": [],
   "source": [
    "with open(file, \"r\", encoding=\"utf-8\") as f:\n",
    "        data=json.load(f)"
   ]
  },
  {
   "cell_type": "code",
   "execution_count": 3,
   "id": "314a33a0",
   "metadata": {},
   "outputs": [],
   "source": [
    "\n",
    "def qdrant_point_id(name: str) -> str:\n",
    "    \"\"\"Deterministic UUIDv5 for a given name string.\"\"\"\n",
    "    return str(uuid.uuid5(uuid.NAMESPACE_URL, name))"
   ]
  },
  {
   "cell_type": "code",
   "execution_count": 4,
   "id": "0e99479f",
   "metadata": {},
   "outputs": [],
   "source": [
    "def iter_records(data: List[Dict]) -> Iterable[Tuple[str, Dict]]:\n",
    "    for thread in data:\n",
    "        thread_ts = str(thread.get(\"thread_ts\", \"\"))\n",
    "        thread_ts_nodot = thread_ts.replace(\".\", \"\")\n",
    "        qas = thread.get(\"qas\", [])\n",
    "        if not isinstance(qas, list):\n",
    "            continue\n",
    "        for i, qa in enumerate(qas):\n",
    "            name = f\"{i}{thread_ts_nodot}\"\n",
    "            point_id = qdrant_point_id(name)\n",
    "            record = {\n",
    "                \"channel\": thread.get(\"channel\"),\n",
    "                \"thread_ts\": thread_ts,\n",
    "                \"asked_by\": qa.get(\"asked_by\"),\n",
    "                \"answered_by\": qa.get(\"answered_by\"),\n",
    "                \"question\": qa.get(\"question\", \"\"),\n",
    "                \"answer\": qa.get(\"answer\", \"\"),\n",
    "            }\n",
    "            yield point_id, record"
   ]
  },
  {
   "cell_type": "code",
   "execution_count": 5,
   "id": "9c752100",
   "metadata": {},
   "outputs": [],
   "source": [
    "pairs = list(iter_records(data))"
   ]
  },
  {
   "cell_type": "code",
   "execution_count": 6,
   "id": "cb88a538",
   "metadata": {},
   "outputs": [],
   "source": [
    "for pid, rec in pairs:\n",
    "    rec[\"id\"] = pid\n",
    "\n",
    "data_with_id = [rec for _, rec in pairs]\n"
   ]
  },
  {
   "cell_type": "code",
   "execution_count": 7,
   "id": "1645ba3b",
   "metadata": {},
   "outputs": [],
   "source": [
    "output_file = \"Data/data_with_id.json\"\n",
    "with open(output_file, \"w\", encoding=\"utf-8\") as f:\n",
    "    json.dump(data_with_id, f, ensure_ascii=False, indent=2)"
   ]
  },
  {
   "cell_type": "code",
   "execution_count": 10,
   "id": "72373cd3",
   "metadata": {},
   "outputs": [],
   "source": [
    "prompt_template = \"\"\"\n",
    "You are a dataset generation assistant.\n",
    "Given a FAQ question and its corresponding answer, generate 5 diverse and natural-sounding user questions that could be answered using the provided answer.\n",
    "These questions will be used to evaluate a search system.\n",
    "\n",
    "Requirements:\n",
    "Each question must be fully answerable using the provided answer only (no external knowledge).\n",
    "Use as few words from the answer as possible — aim for low lexical overlap.\n",
    "Rephrase and vary the style of the questions: include paraphrased, inferred, and reworded forms.\n",
    "Avoid copying the original FAQ question.\n",
    "Make the questions sound like real user queries.\n",
    "\n",
    "Input:\n",
    "\n",
    "Original FAQ Question: {question}\n",
    "Answer: {answer}\n",
    "\n",
    "Provide the output in parsable JSON without using code blocks:\n",
    "\n",
    "[\"question1\", \"question2\", ..., \"question5\"]\n",
    "\"\"\".strip()"
   ]
  },
  {
   "cell_type": "code",
   "execution_count": 11,
   "id": "3210fbbd",
   "metadata": {},
   "outputs": [],
   "source": [
    "def generate_questions(doc):\n",
    "    prompt = prompt_template.format(**doc)\n",
    "\n",
    "    response = client.chat.completions.create(\n",
    "        model='gpt-4o-mini',\n",
    "        messages=[{\"role\": \"user\", \"content\": prompt}]\n",
    "    )\n",
    "\n",
    "    json_response = response.choices[0].message.content\n",
    "    return json_response"
   ]
  },
  {
   "cell_type": "code",
   "execution_count": 23,
   "id": "3f3a29e6",
   "metadata": {},
   "outputs": [
    {
     "data": {
      "application/vnd.jupyter.widget-view+json": {
       "model_id": "8df2d3a5957846e3996a29bd92dd6d76",
       "version_major": 2,
       "version_minor": 0
      },
      "text/plain": [
       "  0%|          | 0/807 [00:00<?, ?it/s]"
      ]
     },
     "metadata": {},
     "output_type": "display_data"
    }
   ],
   "source": [
    "from tqdm.auto import tqdm\n",
    "results = {}\n",
    "for doc in tqdm(data_with_id): \n",
    "    doc_id = doc['id']\n",
    "    if doc_id in results:\n",
    "        continue\n",
    "\n",
    "    questions = generate_questions(doc)\n",
    "    results[doc_id] = questions"
   ]
  },
  {
   "cell_type": "code",
   "execution_count": 26,
   "id": "4206d1f6",
   "metadata": {},
   "outputs": [],
   "source": [
    "output_file = \"Data/ground_truth.json\"\n",
    "with open(output_file, \"w\", encoding=\"utf-8\") as f:\n",
    "    json.dump(results, f, ensure_ascii=False, indent=2)"
   ]
  },
  {
   "cell_type": "code",
   "execution_count": null,
   "id": "3104ee76",
   "metadata": {},
   "outputs": [],
   "source": []
  }
 ],
 "metadata": {
  "kernelspec": {
   "display_name": "Python 3 (ipykernel)",
   "language": "python",
   "name": "python3"
  },
  "language_info": {
   "codemirror_mode": {
    "name": "ipython",
    "version": 3
   },
   "file_extension": ".py",
   "mimetype": "text/x-python",
   "name": "python",
   "nbconvert_exporter": "python",
   "pygments_lexer": "ipython3",
   "version": "3.9.12"
  }
 },
 "nbformat": 4,
 "nbformat_minor": 5
}
